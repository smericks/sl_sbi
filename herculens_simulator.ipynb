{
 "cells": [
  {
   "cell_type": "code",
   "execution_count": null,
   "metadata": {},
   "outputs": [],
   "source": [
    "%load_ext autoreload\n",
    "%autoreload 2\n",
    "import jax\n",
    "from Simulators.herculens_lagn import LensedAGN\n",
    "import Simulators.param_sampling as param_sampling\n",
    "from numpyro import handlers"
   ]
  },
  {
   "cell_type": "markdown",
   "metadata": {},
   "source": [
    "Test instantiating a LensedAGN simulator object"
   ]
  },
  {
   "cell_type": "code",
   "execution_count": 14,
   "metadata": {},
   "outputs": [],
   "source": [
    "lagn_sim = LensedAGN()"
   ]
  },
  {
   "cell_type": "markdown",
   "metadata": {},
   "source": [
    "Test drawing samples of herculens parameter dicts"
   ]
  },
  {
   "cell_type": "code",
   "execution_count": null,
   "metadata": {},
   "outputs": [],
   "source": [
    "# TARGETS = (theta_E, gamma1, gamma2, gamma_lens, e1, e2, x_lens, y_lens, x_src, y_src)\n",
    "target_params = {\n",
    "    'theta_E':1.3,\n",
    "    'gamma1':-0.01,\n",
    "    'gamma2':0.02,\n",
    "    'gamma_lens':2.1,\n",
    "    'e1':0.,\n",
    "    'e2':0.2,\n",
    "    'x_lens':0.,\n",
    "    'y_lens':0.,\n",
    "    'x_src':0.04,\n",
    "    'y_src':0.08}\n",
    "\n",
    "# draw random sample from prior\n",
    "def draw_from_prior(key,target_params_dict):\n",
    "    seeded_model = handlers.seed(param_sampling.nuisances_prior_model, key)\n",
    "    trace = handlers.trace(seeded_model).get_trace(**target_params_dict)\n",
    "    sample = {site['name']: site['value'] for site in trace.values()}\n",
    "    return sample\n",
    "\n",
    "random_seed = 18\n",
    "pnrg_key = jax.random.PRNGKey(random_seed)\n",
    "# _, subkey = jax.random.split(pnrg_key)\n",
    "nuisances_sample = draw_from_prior(pnrg_key,target_params)\n",
    "\n",
    "print(param_sampling.params2kwargs(nuisances_sample,target_params))"
   ]
  },
  {
   "cell_type": "code",
   "execution_count": null,
   "metadata": {},
   "outputs": [],
   "source": []
  }
 ],
 "metadata": {
  "kernelspec": {
   "display_name": "sl_sbi_env",
   "language": "python",
   "name": "python3"
  },
  "language_info": {
   "codemirror_mode": {
    "name": "ipython",
    "version": 3
   },
   "file_extension": ".py",
   "mimetype": "text/x-python",
   "name": "python",
   "nbconvert_exporter": "python",
   "pygments_lexer": "ipython3",
   "version": "3.9.21"
  }
 },
 "nbformat": 4,
 "nbformat_minor": 2
}
